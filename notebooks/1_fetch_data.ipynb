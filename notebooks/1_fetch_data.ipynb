{
 "cells": [
  {
   "cell_type": "markdown",
   "id": "19221183",
   "metadata": {},
   "source": [
    "# Step 1: Fetch and Log Raw Data"
   ]
  },
  {
   "cell_type": "code",
   "execution_count": 1,
   "id": "ed2d5903",
   "metadata": {},
   "outputs": [
    {
     "name": "stderr",
     "output_type": "stream",
     "text": [
      "\n",
      "[notice] A new release of pip is available: 23.1.2 -> 25.1.1\n",
      "[notice] To update, run: python.exe -m pip install --upgrade pip\n"
     ]
    }
   ],
   "source": [
    "!pip install -q wandb"
   ]
  },
  {
   "cell_type": "code",
   "execution_count": 2,
   "id": "481e103b",
   "metadata": {},
   "outputs": [],
   "source": [
    "import os\n",
    "import pandas as pd\n",
    "import wandb"
   ]
  },
  {
   "cell_type": "code",
   "execution_count": 3,
   "id": "039af64d",
   "metadata": {},
   "outputs": [],
   "source": [
    "def fetch_and_save_data(input_path='diabetes.csv', output_path='raw_data.csv'):\n",
    "    if not os.path.exists(input_path):\n",
    "        raise FileNotFoundError(f\"Input data file {input_path} does not exist.\") # Ensure the file exists\n",
    "    df = pd.read_csv(input_path)\n",
    "    df.to_csv(output_path, index=False)\n",
    "    print(f\"Loaded {df.shape[0]} rows and {df.shape[1]} columns.\")\n",
    "    print(f\"Saved to {output_path}.\")\n",
    "    return output_path"
   ]
  },
  {
   "cell_type": "code",
   "execution_count": 4,
   "id": "c22af82a",
   "metadata": {},
   "outputs": [],
   "source": [
    "def log_data_to_wandb(output_path, artifact_name='raw_data.csv', project='diabetes', entity='ngocnhi-p4work-national-economics-university'):\n",
    "    wandb.login()\n",
    "    run = wandb.init(project=project, entity=entity, job_type='fetch_data')\n",
    "    artifact = wandb.Artifact(name=artifact_name, type='dataset', description='Raw diabetes data')\n",
    "    artifact.add_file(output_path)\n",
    "    run.log_artifact(artifact)\n",
    "    run.finish()\n",
    "    print(f\"Logged {artifact_name} to Weights & Biases.\")"
   ]
  },
  {
   "cell_type": "code",
   "execution_count": 6,
   "id": "162aaa37",
   "metadata": {},
   "outputs": [
    {
     "name": "stderr",
     "output_type": "stream",
     "text": [
      "\u001b[34m\u001b[1mwandb\u001b[0m: Using wandb-core as the SDK backend.  Please refer to https://wandb.me/wandb-core for more information.\n"
     ]
    },
    {
     "name": "stdout",
     "output_type": "stream",
     "text": [
      "Loaded 768 rows and 9 columns.\n",
      "Saved to raw_data.csv.\n"
     ]
    },
    {
     "name": "stderr",
     "output_type": "stream",
     "text": [
      "\u001b[34m\u001b[1mwandb\u001b[0m: Currently logged in as: \u001b[33mmlcolongmay\u001b[0m (\u001b[33mmlcolongmay-neu\u001b[0m) to \u001b[32mhttps://api.wandb.ai\u001b[0m. Use \u001b[1m`wandb login --relogin`\u001b[0m to force relogin\n"
     ]
    },
    {
     "data": {
      "text/html": [
       "creating run (0.8s)"
      ],
      "text/plain": [
       "<IPython.core.display.HTML object>"
      ]
     },
     "metadata": {},
     "output_type": "display_data"
    },
    {
     "data": {
      "text/html": [
       "Tracking run with wandb version 0.19.8"
      ],
      "text/plain": [
       "<IPython.core.display.HTML object>"
      ]
     },
     "metadata": {},
     "output_type": "display_data"
    },
    {
     "data": {
      "text/html": [
       "Run data is saved locally in <code>c:\\Users\\x-hp\\OneDrive - National Economics University\\Desktop\\ML Ops\\FINAL\\diabetes-prediction-main\\diabetes-prediction-main\\notebooks\\wandb\\run-20250507_154001-yfhc5dq9</code>"
      ],
      "text/plain": [
       "<IPython.core.display.HTML object>"
      ]
     },
     "metadata": {},
     "output_type": "display_data"
    },
    {
     "data": {
      "text/html": [
       "Syncing run <strong><a href='https://wandb.ai/ngocnhi-p4work-national-economics-university/diabetes/runs/yfhc5dq9' target=\"_blank\">valiant-breeze-180</a></strong> to <a href='https://wandb.ai/ngocnhi-p4work-national-economics-university/diabetes' target=\"_blank\">Weights & Biases</a> (<a href='https://wandb.me/developer-guide' target=\"_blank\">docs</a>)<br>"
      ],
      "text/plain": [
       "<IPython.core.display.HTML object>"
      ]
     },
     "metadata": {},
     "output_type": "display_data"
    },
    {
     "data": {
      "text/html": [
       " View project at <a href='https://wandb.ai/ngocnhi-p4work-national-economics-university/diabetes' target=\"_blank\">https://wandb.ai/ngocnhi-p4work-national-economics-university/diabetes</a>"
      ],
      "text/plain": [
       "<IPython.core.display.HTML object>"
      ]
     },
     "metadata": {},
     "output_type": "display_data"
    },
    {
     "data": {
      "text/html": [
       " View run at <a href='https://wandb.ai/ngocnhi-p4work-national-economics-university/diabetes/runs/yfhc5dq9' target=\"_blank\">https://wandb.ai/ngocnhi-p4work-national-economics-university/diabetes/runs/yfhc5dq9</a>"
      ],
      "text/plain": [
       "<IPython.core.display.HTML object>"
      ]
     },
     "metadata": {},
     "output_type": "display_data"
    },
    {
     "data": {
      "text/html": [],
      "text/plain": [
       "<IPython.core.display.HTML object>"
      ]
     },
     "metadata": {},
     "output_type": "display_data"
    },
    {
     "data": {
      "text/html": [
       " View run <strong style=\"color:#cdcd00\">valiant-breeze-180</strong> at: <a href='https://wandb.ai/ngocnhi-p4work-national-economics-university/diabetes/runs/yfhc5dq9' target=\"_blank\">https://wandb.ai/ngocnhi-p4work-national-economics-university/diabetes/runs/yfhc5dq9</a><br> View project at: <a href='https://wandb.ai/ngocnhi-p4work-national-economics-university/diabetes' target=\"_blank\">https://wandb.ai/ngocnhi-p4work-national-economics-university/diabetes</a><br>Synced 5 W&B file(s), 0 media file(s), 0 artifact file(s) and 0 other file(s)"
      ],
      "text/plain": [
       "<IPython.core.display.HTML object>"
      ]
     },
     "metadata": {},
     "output_type": "display_data"
    },
    {
     "data": {
      "text/html": [
       "Find logs at: <code>.\\wandb\\run-20250507_154001-yfhc5dq9\\logs</code>"
      ],
      "text/plain": [
       "<IPython.core.display.HTML object>"
      ]
     },
     "metadata": {},
     "output_type": "display_data"
    },
    {
     "name": "stdout",
     "output_type": "stream",
     "text": [
      "Logged raw_data.csv to Weights & Biases.\n"
     ]
    }
   ],
   "source": [
    "# === RUN PIPELINE ===\n",
    "output_file = fetch_and_save_data('diabetess.csv')\n",
    "log_data_to_wandb(output_file)"
   ]
  }
 ],
 "metadata": {
  "kernelspec": {
   "display_name": ".venv",
   "language": "python",
   "name": "python3"
  },
  "language_info": {
   "codemirror_mode": {
    "name": "ipython",
    "version": 3
   },
   "file_extension": ".py",
   "mimetype": "text/x-python",
   "name": "python",
   "nbconvert_exporter": "python",
   "pygments_lexer": "ipython3",
   "version": "3.11.4"
  }
 },
 "nbformat": 4,
 "nbformat_minor": 5
}
