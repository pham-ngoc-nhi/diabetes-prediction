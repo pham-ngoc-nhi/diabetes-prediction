{
 "cells": [
  {
   "cell_type": "markdown",
   "id": "895f2407",
   "metadata": {},
   "source": [
    "# Step 5: Data Segregation\n",
    "This notebook splits the preprocessed data into training and testing sets using stratified sampling, then logs each split as separate artifacts to Weights & Biases (W&B)."
   ]
  },
  {
   "cell_type": "code",
   "execution_count": 1,
   "id": "a6bec401",
   "metadata": {},
   "outputs": [
    {
     "name": "stderr",
     "output_type": "stream",
     "text": [
      "\n",
      "[notice] A new release of pip is available: 23.1.2 -> 25.1.1\n",
      "[notice] To update, run: python.exe -m pip install --upgrade pip\n"
     ]
    }
   ],
   "source": [
    "!pip install -q wandb"
   ]
  },
  {
   "cell_type": "code",
   "execution_count": 2,
   "id": "f71470b7",
   "metadata": {},
   "outputs": [],
   "source": [
    "import os\n",
    "import logging\n",
    "import tempfile\n",
    "import pandas as pd\n",
    "from sklearn.model_selection import train_test_split\n",
    "import wandb"
   ]
  },
  {
   "cell_type": "code",
   "execution_count": 3,
   "id": "c0fec806",
   "metadata": {},
   "outputs": [],
   "source": [
    "logging.basicConfig(level=logging.INFO,\n",
    "                    format='%(asctime)s %(message)s',\n",
    "                    datefmt='%d-%m-%Y %H:%M:%S')\n",
    "logger = logging.getLogger()"
   ]
  },
  {
   "cell_type": "code",
   "execution_count": 4,
   "id": "566c0f02",
   "metadata": {},
   "outputs": [],
   "source": [
    "def load_artifact_data(project, artifact_path, entity=\"ngocnhi-p4work-national-economics-university\"):\n",
    "    wandb.login()\n",
    "    run = wandb.init(project=project,entity=entity, job_type='data_segregation')\n",
    "    artifact = run.use_artifact(artifact_path)\n",
    "    artifact_dir = artifact.download()\n",
    "    df = pd.read_csv(os.path.join(artifact_dir, 'preprocessed_data.csv'))\n",
    "    logger.info(f\"Loaded dataset with shape: {df.shape}\")\n",
    "    return df, run"
   ]
  },
  {
   "cell_type": "code",
   "execution_count": 5,
   "id": "a60ffe57",
   "metadata": {},
   "outputs": [],
   "source": [
    "def split_data(df, test_size=0.3, seed=42, stratify_col='OUTCOME'):\n",
    "    train_df, test_df = train_test_split(\n",
    "        df, test_size=test_size, random_state=seed, stratify=df[stratify_col]\n",
    "    )\n",
    "    logger.info(f\"Train shape: {train_df.shape}, Test shape: {test_df.shape}\")\n",
    "    return {'train': train_df, 'test': test_df}"
   ]
  },
  {
   "cell_type": "code",
   "execution_count": 6,
   "id": "a04bb823",
   "metadata": {},
   "outputs": [],
   "source": [
    "def log_splits_to_wandb(splits, run, artifact_type='segregated_data'):\n",
    "    with tempfile.TemporaryDirectory() as tmp_dir:\n",
    "        for name, split_df in splits.items():\n",
    "            temp_path = os.path.join(tmp_dir, f\"{name}.csv\")\n",
    "            split_df.to_csv(temp_path, index=False)\n",
    "            artifact = wandb.Artifact(\n",
    "                name=f\"{name}.csv\",\n",
    "                type=artifact_type,\n",
    "                description=f\"{name} split of dataset\"\n",
    "            )\n",
    "            artifact.add_file(temp_path)\n",
    "            run.log_artifact(artifact)\n",
    "            artifact.wait()\n",
    "            logger.info(f\"Uploaded {name}.csv to W&B\")"
   ]
  },
  {
   "cell_type": "code",
   "execution_count": 7,
   "id": "5c9c5381",
   "metadata": {},
   "outputs": [
    {
     "name": "stderr",
     "output_type": "stream",
     "text": [
      "\u001b[34m\u001b[1mwandb\u001b[0m: Using wandb-core as the SDK backend.  Please refer to https://wandb.me/wandb-core for more information.\n",
      "\u001b[34m\u001b[1mwandb\u001b[0m: Currently logged in as: \u001b[33mmlcolongmay\u001b[0m (\u001b[33mmlcolongmay-neu\u001b[0m) to \u001b[32mhttps://api.wandb.ai\u001b[0m. Use \u001b[1m`wandb login --relogin`\u001b[0m to force relogin\n"
     ]
    },
    {
     "data": {
      "text/html": [
       "Tracking run with wandb version 0.19.8"
      ],
      "text/plain": [
       "<IPython.core.display.HTML object>"
      ]
     },
     "metadata": {},
     "output_type": "display_data"
    },
    {
     "data": {
      "text/html": [
       "Run data is saved locally in <code>c:\\Users\\x-hp\\OneDrive - National Economics University\\Desktop\\ML Ops\\FINAL\\diabetes_project_MLOPS\\diabetes_project_MLOPS\\wandb\\run-20250503_224722-rigs5wd8</code>"
      ],
      "text/plain": [
       "<IPython.core.display.HTML object>"
      ]
     },
     "metadata": {},
     "output_type": "display_data"
    },
    {
     "data": {
      "text/html": [
       "Syncing run <strong><a href='https://wandb.ai/ngocnhi-p4work-national-economics-university/diabetes/runs/rigs5wd8' target=\"_blank\">legendary-microwave-101</a></strong> to <a href='https://wandb.ai/ngocnhi-p4work-national-economics-university/diabetes' target=\"_blank\">Weights & Biases</a> (<a href='https://wandb.me/developer-guide' target=\"_blank\">docs</a>)<br>"
      ],
      "text/plain": [
       "<IPython.core.display.HTML object>"
      ]
     },
     "metadata": {},
     "output_type": "display_data"
    },
    {
     "data": {
      "text/html": [
       " View project at <a href='https://wandb.ai/ngocnhi-p4work-national-economics-university/diabetes' target=\"_blank\">https://wandb.ai/ngocnhi-p4work-national-economics-university/diabetes</a>"
      ],
      "text/plain": [
       "<IPython.core.display.HTML object>"
      ]
     },
     "metadata": {},
     "output_type": "display_data"
    },
    {
     "data": {
      "text/html": [
       " View run at <a href='https://wandb.ai/ngocnhi-p4work-national-economics-university/diabetes/runs/rigs5wd8' target=\"_blank\">https://wandb.ai/ngocnhi-p4work-national-economics-university/diabetes/runs/rigs5wd8</a>"
      ],
      "text/plain": [
       "<IPython.core.display.HTML object>"
      ]
     },
     "metadata": {},
     "output_type": "display_data"
    },
    {
     "name": "stderr",
     "output_type": "stream",
     "text": [
      "\u001b[34m\u001b[1mwandb\u001b[0m:   1 of 1 files downloaded.  \n",
      "03-05-2025 22:47:26 Loaded dataset with shape: (768, 9)\n",
      "03-05-2025 22:47:26 Train shape: (537, 9), Test shape: (231, 9)\n",
      "03-05-2025 22:47:29 Uploaded train.csv to W&B\n",
      "03-05-2025 22:47:33 Uploaded test.csv to W&B\n"
     ]
    },
    {
     "data": {
      "text/html": [],
      "text/plain": [
       "<IPython.core.display.HTML object>"
      ]
     },
     "metadata": {},
     "output_type": "display_data"
    },
    {
     "data": {
      "text/html": [
       " View run <strong style=\"color:#cdcd00\">legendary-microwave-101</strong> at: <a href='https://wandb.ai/ngocnhi-p4work-national-economics-university/diabetes/runs/rigs5wd8' target=\"_blank\">https://wandb.ai/ngocnhi-p4work-national-economics-university/diabetes/runs/rigs5wd8</a><br> View project at: <a href='https://wandb.ai/ngocnhi-p4work-national-economics-university/diabetes' target=\"_blank\">https://wandb.ai/ngocnhi-p4work-national-economics-university/diabetes</a><br>Synced 5 W&B file(s), 0 media file(s), 4 artifact file(s) and 0 other file(s)"
      ],
      "text/plain": [
       "<IPython.core.display.HTML object>"
      ]
     },
     "metadata": {},
     "output_type": "display_data"
    },
    {
     "data": {
      "text/html": [
       "Find logs at: <code>.\\wandb\\run-20250503_224722-rigs5wd8\\logs</code>"
      ],
      "text/plain": [
       "<IPython.core.display.HTML object>"
      ]
     },
     "metadata": {},
     "output_type": "display_data"
    }
   ],
   "source": [
    "# === RUN PIPELINE ===\n",
    "project = 'diabetes'\n",
    "artifact_path = 'ngocnhi-p4work-national-economics-university/diabetes/preprocessed_data.csv:latest'\n",
    "df, run = load_artifact_data(project, artifact_path)\n",
    "splits = split_data(df)\n",
    "log_splits_to_wandb(splits, run)\n",
    "run.finish()"
   ]
  }
 ],
 "metadata": {
  "kernelspec": {
   "display_name": ".venv",
   "language": "python",
   "name": "python3"
  },
  "language_info": {
   "codemirror_mode": {
    "name": "ipython",
    "version": 3
   },
   "file_extension": ".py",
   "mimetype": "text/x-python",
   "name": "python",
   "nbconvert_exporter": "python",
   "pygments_lexer": "ipython3",
   "version": "3.11.4"
  }
 },
 "nbformat": 4,
 "nbformat_minor": 5
}
