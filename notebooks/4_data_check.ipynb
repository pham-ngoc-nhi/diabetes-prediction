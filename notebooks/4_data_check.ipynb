{
 "cells": [
  {
   "cell_type": "code",
   "execution_count": 1,
   "id": "b68c4ff6",
   "metadata": {},
   "outputs": [
    {
     "name": "stdout",
     "output_type": "stream",
     "text": [
      "Requirement already satisfied: wandb in c:\\users\\x-hp\\onedrive - national economics university\\desktop\\ml ops\\.venv\\lib\\site-packages (0.19.8)\n",
      "Requirement already satisfied: click!=8.0.0,>=7.1 in c:\\users\\x-hp\\onedrive - national economics university\\desktop\\ml ops\\.venv\\lib\\site-packages (from wandb) (8.1.8)\n",
      "Requirement already satisfied: docker-pycreds>=0.4.0 in c:\\users\\x-hp\\onedrive - national economics university\\desktop\\ml ops\\.venv\\lib\\site-packages (from wandb) (0.4.0)\n",
      "Requirement already satisfied: gitpython!=3.1.29,>=1.0.0 in c:\\users\\x-hp\\onedrive - national economics university\\desktop\\ml ops\\.venv\\lib\\site-packages (from wandb) (3.1.44)\n",
      "Requirement already satisfied: platformdirs in c:\\users\\x-hp\\onedrive - national economics university\\desktop\\ml ops\\.venv\\lib\\site-packages (from wandb) (4.3.7)\n",
      "Requirement already satisfied: protobuf!=4.21.0,!=5.28.0,<6,>=3.19.0 in c:\\users\\x-hp\\onedrive - national economics university\\desktop\\ml ops\\.venv\\lib\\site-packages (from wandb) (5.29.4)\n",
      "Requirement already satisfied: psutil>=5.0.0 in c:\\users\\x-hp\\onedrive - national economics university\\desktop\\ml ops\\.venv\\lib\\site-packages (from wandb) (7.0.0)\n",
      "Requirement already satisfied: pydantic<3,>=2.6 in c:\\users\\x-hp\\onedrive - national economics university\\desktop\\ml ops\\.venv\\lib\\site-packages (from wandb) (2.10.6)\n",
      "Requirement already satisfied: pyyaml in c:\\users\\x-hp\\onedrive - national economics university\\desktop\\ml ops\\.venv\\lib\\site-packages (from wandb) (6.0.2)\n",
      "Requirement already satisfied: requests<3,>=2.0.0 in c:\\users\\x-hp\\onedrive - national economics university\\desktop\\ml ops\\.venv\\lib\\site-packages (from wandb) (2.32.3)\n",
      "Requirement already satisfied: sentry-sdk>=2.0.0 in c:\\users\\x-hp\\onedrive - national economics university\\desktop\\ml ops\\.venv\\lib\\site-packages (from wandb) (2.24.0)\n",
      "Requirement already satisfied: setproctitle in c:\\users\\x-hp\\onedrive - national economics university\\desktop\\ml ops\\.venv\\lib\\site-packages (from wandb) (1.3.5)\n",
      "Requirement already satisfied: setuptools in c:\\users\\x-hp\\onedrive - national economics university\\desktop\\ml ops\\.venv\\lib\\site-packages (from wandb) (65.5.0)\n",
      "Requirement already satisfied: typing-extensions<5,>=4.4 in c:\\users\\x-hp\\onedrive - national economics university\\desktop\\ml ops\\.venv\\lib\\site-packages (from wandb) (4.12.2)\n",
      "Requirement already satisfied: colorama in c:\\users\\x-hp\\onedrive - national economics university\\desktop\\ml ops\\.venv\\lib\\site-packages (from click!=8.0.0,>=7.1->wandb) (0.4.6)\n",
      "Requirement already satisfied: six>=1.4.0 in c:\\users\\x-hp\\onedrive - national economics university\\desktop\\ml ops\\.venv\\lib\\site-packages (from docker-pycreds>=0.4.0->wandb) (1.17.0)\n",
      "Requirement already satisfied: gitdb<5,>=4.0.1 in c:\\users\\x-hp\\onedrive - national economics university\\desktop\\ml ops\\.venv\\lib\\site-packages (from gitpython!=3.1.29,>=1.0.0->wandb) (4.0.12)\n",
      "Requirement already satisfied: annotated-types>=0.6.0 in c:\\users\\x-hp\\onedrive - national economics university\\desktop\\ml ops\\.venv\\lib\\site-packages (from pydantic<3,>=2.6->wandb) (0.7.0)\n",
      "Requirement already satisfied: pydantic-core==2.27.2 in c:\\users\\x-hp\\onedrive - national economics university\\desktop\\ml ops\\.venv\\lib\\site-packages (from pydantic<3,>=2.6->wandb) (2.27.2)\n",
      "Requirement already satisfied: charset-normalizer<4,>=2 in c:\\users\\x-hp\\onedrive - national economics university\\desktop\\ml ops\\.venv\\lib\\site-packages (from requests<3,>=2.0.0->wandb) (3.4.1)\n",
      "Requirement already satisfied: idna<4,>=2.5 in c:\\users\\x-hp\\onedrive - national economics university\\desktop\\ml ops\\.venv\\lib\\site-packages (from requests<3,>=2.0.0->wandb) (3.10)\n",
      "Requirement already satisfied: urllib3<3,>=1.21.1 in c:\\users\\x-hp\\onedrive - national economics university\\desktop\\ml ops\\.venv\\lib\\site-packages (from requests<3,>=2.0.0->wandb) (2.3.0)\n",
      "Requirement already satisfied: certifi>=2017.4.17 in c:\\users\\x-hp\\onedrive - national economics university\\desktop\\ml ops\\.venv\\lib\\site-packages (from requests<3,>=2.0.0->wandb) (2025.1.31)\n",
      "Requirement already satisfied: smmap<6,>=3.0.1 in c:\\users\\x-hp\\onedrive - national economics university\\desktop\\ml ops\\.venv\\lib\\site-packages (from gitdb<5,>=4.0.1->gitpython!=3.1.29,>=1.0.0->wandb) (5.0.2)\n"
     ]
    },
    {
     "name": "stderr",
     "output_type": "stream",
     "text": [
      "\n",
      "[notice] A new release of pip is available: 23.1.2 -> 25.1.1\n",
      "[notice] To update, run: python.exe -m pip install --upgrade pip\n"
     ]
    }
   ],
   "source": [
    "!pip install wandb"
   ]
  },
  {
   "cell_type": "code",
   "execution_count": 2,
   "id": "5d0401a0",
   "metadata": {},
   "outputs": [
    {
     "name": "stdout",
     "output_type": "stream",
     "text": [
      "Requirement already satisfied: pytest in c:\\users\\x-hp\\onedrive - national economics university\\desktop\\ml ops\\.venv\\lib\\site-packages (8.3.5)\n",
      "Requirement already satisfied: pytest-sugar in c:\\users\\x-hp\\onedrive - national economics university\\desktop\\ml ops\\.venv\\lib\\site-packages (1.0.0)\n",
      "Requirement already satisfied: colorama in c:\\users\\x-hp\\onedrive - national economics university\\desktop\\ml ops\\.venv\\lib\\site-packages (from pytest) (0.4.6)\n",
      "Requirement already satisfied: iniconfig in c:\\users\\x-hp\\onedrive - national economics university\\desktop\\ml ops\\.venv\\lib\\site-packages (from pytest) (2.1.0)\n",
      "Requirement already satisfied: packaging in c:\\users\\x-hp\\onedrive - national economics university\\desktop\\ml ops\\.venv\\lib\\site-packages (from pytest) (24.2)\n",
      "Requirement already satisfied: pluggy<2,>=1.5 in c:\\users\\x-hp\\onedrive - national economics university\\desktop\\ml ops\\.venv\\lib\\site-packages (from pytest) (1.5.0)\n",
      "Requirement already satisfied: termcolor>=2.1.0 in c:\\users\\x-hp\\onedrive - national economics university\\desktop\\ml ops\\.venv\\lib\\site-packages (from pytest-sugar) (3.1.0)\n"
     ]
    },
    {
     "name": "stderr",
     "output_type": "stream",
     "text": [
      "\n",
      "[notice] A new release of pip is available: 23.1.2 -> 25.1.1\n",
      "[notice] To update, run: python.exe -m pip install --upgrade pip\n"
     ]
    }
   ],
   "source": [
    "!pip install pytest pytest-sugar"
   ]
  },
  {
   "cell_type": "code",
   "execution_count": 3,
   "id": "0bbd1012",
   "metadata": {},
   "outputs": [],
   "source": [
    "import wandb"
   ]
  },
  {
   "cell_type": "code",
   "execution_count": 4,
   "id": "3c4c5e06",
   "metadata": {},
   "outputs": [
    {
     "name": "stderr",
     "output_type": "stream",
     "text": [
      "\u001b[34m\u001b[1mwandb\u001b[0m: Using wandb-core as the SDK backend.  Please refer to https://wandb.me/wandb-core for more information.\n",
      "\u001b[34m\u001b[1mwandb\u001b[0m: Currently logged in as: \u001b[33mmlcolongmay\u001b[0m (\u001b[33mmlcolongmay-neu\u001b[0m) to \u001b[32mhttps://api.wandb.ai\u001b[0m. Use \u001b[1m`wandb login --relogin`\u001b[0m to force relogin\n"
     ]
    },
    {
     "data": {
      "text/plain": [
       "True"
      ]
     },
     "execution_count": 4,
     "metadata": {},
     "output_type": "execute_result"
    }
   ],
   "source": [
    "# Login to Weights & Biases\n",
    "wandb.login()"
   ]
  },
  {
   "cell_type": "markdown",
   "id": "744f32b2",
   "metadata": {},
   "source": [
    "## 1.2 Pytest"
   ]
  },
  {
   "cell_type": "markdown",
   "id": "718715a5",
   "metadata": {},
   "source": [
    "### 1.2.3 Create and run a test file"
   ]
  },
  {
   "cell_type": "code",
   "execution_count": 5,
   "id": "fe2fcf46",
   "metadata": {},
   "outputs": [
    {
     "name": "stdout",
     "output_type": "stream",
     "text": [
      "Initializing W&B...\n"
     ]
    },
    {
     "data": {
      "text/html": [
       "creating run (1.1s)"
      ],
      "text/plain": [
       "<IPython.core.display.HTML object>"
      ]
     },
     "metadata": {},
     "output_type": "display_data"
    },
    {
     "data": {
      "text/html": [
       "Tracking run with wandb version 0.19.8"
      ],
      "text/plain": [
       "<IPython.core.display.HTML object>"
      ]
     },
     "metadata": {},
     "output_type": "display_data"
    },
    {
     "data": {
      "text/html": [
       "Run data is saved locally in <code>c:\\Users\\x-hp\\OneDrive - National Economics University\\Desktop\\ML Ops\\FINAL\\diabetes-prediction-main\\diabetes-prediction-main\\notebooks\\wandb\\run-20250509_162049-cx3q7tve</code>"
      ],
      "text/plain": [
       "<IPython.core.display.HTML object>"
      ]
     },
     "metadata": {},
     "output_type": "display_data"
    },
    {
     "data": {
      "text/html": [
       "Syncing run <strong><a href='https://wandb.ai/ngocnhi-p4work-national-economics-university/diabetes/runs/cx3q7tve' target=\"_blank\">classic-bird-207</a></strong> to <a href='https://wandb.ai/ngocnhi-p4work-national-economics-university/diabetes' target=\"_blank\">Weights & Biases</a> (<a href='https://wandb.me/developer-guide' target=\"_blank\">docs</a>)<br>"
      ],
      "text/plain": [
       "<IPython.core.display.HTML object>"
      ]
     },
     "metadata": {},
     "output_type": "display_data"
    },
    {
     "data": {
      "text/html": [
       " View project at <a href='https://wandb.ai/ngocnhi-p4work-national-economics-university/diabetes' target=\"_blank\">https://wandb.ai/ngocnhi-p4work-national-economics-university/diabetes</a>"
      ],
      "text/plain": [
       "<IPython.core.display.HTML object>"
      ]
     },
     "metadata": {},
     "output_type": "display_data"
    },
    {
     "data": {
      "text/html": [
       " View run at <a href='https://wandb.ai/ngocnhi-p4work-national-economics-university/diabetes/runs/cx3q7tve' target=\"_blank\">https://wandb.ai/ngocnhi-p4work-national-economics-university/diabetes/runs/cx3q7tve</a>"
      ],
      "text/plain": [
       "<IPython.core.display.HTML object>"
      ]
     },
     "metadata": {},
     "output_type": "display_data"
    },
    {
     "name": "stdout",
     "output_type": "stream",
     "text": [
      "W&B initialized successfully\n"
     ]
    }
   ],
   "source": [
    "import wandb\n",
    "import pytest\n",
    "import pandas as pd\n",
    "import os\n",
    "\n",
    "# Initialize W&B run with specified entity and project\n",
    "print(\"Initializing W&B...\")\n",
    "try:\n",
    "    run = wandb.init(\n",
    "        entity=\"ngocnhi-p4work-national-economics-university\",  \n",
    "        project=\"diabetes\",  \n",
    "        job_type=\"data_checks\"\n",
    "    )\n",
    "    print(\"W&B initialized successfully\")\n",
    "except Exception as e:\n",
    "    print(f\"Error initializing W&B: {e}\")\n",
    "    raise\n",
    "\n",
    "@pytest.fixture(scope=\"session\")\n",
    "def data():\n",
    "    \"\"\"\n",
    "    Fixture to download the diabetes dataset from W&B artifact.\n",
    "    \"\"\"\n",
    "    print(\"Downloading artifact...\")\n",
    "    try:\n",
    "        artifact = run.use_artifact(\"preprocessed_data.csv:latest\", type=\"clean_data\")\n",
    "        artifact_dir = artifact.download()\n",
    "        local_path = os.path.join(artifact_dir, \"preprocessed_data.csv\")\n",
    "        print(f\"Artifact downloaded at {local_path}\")\n",
    "        df = pd.read_csv(local_path)\n",
    "        print(f\"Data loaded successfully: {df.shape}\")\n",
    "        print(\"Columns:\", df.columns.tolist())\n",
    "        return df\n",
    "    except Exception as e:\n",
    "        print(f\"Error downloading artifact or reading data: {e}\")\n",
    "        raise\n",
    "\n",
    "def test_no_missing_values(data):\n",
    "    assert data.isnull().sum().sum() == 0, \"Data contains missing values\"\n",
    "    \n",
    "def test_class_balance(data, threshold=0.9):\n",
    "    class_counts = data['OUTCOME'].value_counts(normalize=True)\n",
    "    max_class_ratio = class_counts.max()\n",
    "    assert max_class_ratio < threshold, f\"Data imbalance: {class_counts.to_dict()}\"\n",
    "\n",
    "def test_duplicate_rows(data):\n",
    "    duplicate_count = data.duplicated().sum()\n",
    "    assert duplicate_count == 0, f\"Data contains {duplicate_count} duplicate rows\"\n",
    "\n",
    "def test_data_length(data):\n",
    "    \"\"\"\n",
    "    Ensure dataset has a sufficient number of records.\n",
    "    \"\"\"\n",
    "    print(\"Running test_data_length...\")\n",
    "    assert len(data) > 500, f\"Dataset has only {len(data)} records; requires > 500\"\n",
    "\n",
    "def test_number_of_columns(data):\n",
    "    \"\"\"\n",
    "    Ensure dataset has at least the expected number of columns.\n",
    "    \"\"\"\n",
    "    print(\"Running test_number_of_columns...\")\n",
    "    expected_min_columns = 9\n",
    "    assert data.shape[1] >= expected_min_columns, f\"Dataset has {data.shape[1]} columns; requires >= {expected_min_columns}\"\n",
    "\n",
    "def test_column_presence_and_type(data):\n",
    "    \"\"\"\n",
    "    Validate that OUTCOME is integer and all other features are numeric.\n",
    "    \"\"\"\n",
    "    print(\"Running test_column_presence_and_type...\")\n",
    "\n",
    "    assert \"OUTCOME\" in data.columns, \"Missing 'OUTCOME' column\"\n",
    "    assert pd.api.types.is_integer_dtype(data[\"OUTCOME\"]), \"'OUTCOME' column is not integer type\"\n",
    "\n",
    "    feature_cols = [col for col in data.columns if col != \"OUTCOME\"]\n",
    "    for col in feature_cols:\n",
    "        assert pd.api.types.is_numeric_dtype(data[col]), f\"Column '{col}' is not numeric\"\n",
    "\n",
    "def test_class_names(data):\n",
    "    \"\"\"\n",
    "    Ensure OUTCOME column contains only valid classes (0 or 1).\n",
    "    \"\"\"\n",
    "    print(\"Running test_class_names...\")\n",
    "    known_classes = [0, 1]\n",
    "    assert data[\"OUTCOME\"].isin(known_classes).all(), \\\n",
    "        f\"'OUTCOME' column contains invalid values: {data['OUTCOME'].unique()}\"\n",
    "\n",
    "def test_column_ranges(data):\n",
    "    \"\"\"\n",
    "    Ensure numerical columns contain reasonable values (non-negative and not extreme).\n",
    "    \"\"\"\n",
    "    print(\"Running test_column_ranges...\")\n",
    "    feature_cols = [col for col in data.columns if col != \"OUTCOME\" and pd.api.types.is_numeric_dtype(data[col])]\n",
    "\n",
    "    for col in feature_cols:\n",
    "        min_val, max_val = data[col].min(), data[col].max()\n",
    "        assert min_val >= 0, f\"Column '{col}' contains negative values (min={min_val})\"\n",
    "        assert max_val < 1e6, f\"Column '{col}' has extremely high values (max={max_val})\"\n",
    "\n"
   ]
  },
  {
   "cell_type": "code",
   "execution_count": 6,
   "id": "a2e3fffe",
   "metadata": {},
   "outputs": [
    {
     "name": "stdout",
     "output_type": "stream",
     "text": [
      "\u001b[1m============================= test session starts =============================\u001b[0m\n",
      "platform win32 -- Python 3.11.4, pytest-8.3.5, pluggy-1.5.0 -- C:\\Users\\x-hp\\OneDrive - National Economics University\\Desktop\\ML Ops\\.venv\\Scripts\\python.exe\n",
      "cachedir: .pytest_cache\n",
      "rootdir: c:\\Users\\x-hp\\OneDrive - National Economics University\\Desktop\\ML Ops\\FINAL\\diabetes-prediction-main\\diabetes-prediction-main\\notebooks\n",
      "plugins: sugar-1.0.0, typeguard-4.4.2\n",
      "\u001b[1mcollecting ... \u001b[0mcollected 8 items\n",
      "\n",
      "test_data.py::test_no_missing_values \u001b[32mPASSED\u001b[0m\u001b[32m                              [ 12%]\u001b[0m\n",
      "test_data.py::test_class_balance \u001b[32mPASSED\u001b[0m\u001b[32m                                  [ 25%]\u001b[0m\n",
      "test_data.py::test_duplicate_rows \u001b[32mPASSED\u001b[0m\u001b[32m                                 [ 37%]\u001b[0m\n",
      "test_data.py::test_data_length \u001b[32mPASSED\u001b[0m\u001b[32m                                    [ 50%]\u001b[0m\n",
      "test_data.py::test_number_of_columns \u001b[32mPASSED\u001b[0m\u001b[32m                              [ 62%]\u001b[0m\n",
      "test_data.py::test_column_presence_and_type \u001b[32mPASSED\u001b[0m\u001b[32m                       [ 75%]\u001b[0m\n",
      "test_data.py::test_class_names \u001b[32mPASSED\u001b[0m\u001b[32m                                    [ 87%]\u001b[0m\n",
      "test_data.py::test_column_ranges \u001b[32mPASSED\u001b[0m\u001b[32m                                  [100%]\u001b[0m\n",
      "\n",
      "\u001b[32m============================= \u001b[32m\u001b[1m8 passed\u001b[0m\u001b[32m in 10.70s\u001b[0m\u001b[32m ==============================\u001b[0m\n"
     ]
    }
   ],
   "source": [
    "!pytest test_data.py -vvv"
   ]
  },
  {
   "cell_type": "code",
   "execution_count": 7,
   "id": "ef910291",
   "metadata": {},
   "outputs": [
    {
     "data": {
      "text/html": [],
      "text/plain": [
       "<IPython.core.display.HTML object>"
      ]
     },
     "metadata": {},
     "output_type": "display_data"
    },
    {
     "data": {
      "text/html": [
       " View run <strong style=\"color:#cdcd00\">classic-bird-207</strong> at: <a href='https://wandb.ai/ngocnhi-p4work-national-economics-university/diabetes/runs/cx3q7tve' target=\"_blank\">https://wandb.ai/ngocnhi-p4work-national-economics-university/diabetes/runs/cx3q7tve</a><br> View project at: <a href='https://wandb.ai/ngocnhi-p4work-national-economics-university/diabetes' target=\"_blank\">https://wandb.ai/ngocnhi-p4work-national-economics-university/diabetes</a><br>Synced 5 W&B file(s), 0 media file(s), 0 artifact file(s) and 0 other file(s)"
      ],
      "text/plain": [
       "<IPython.core.display.HTML object>"
      ]
     },
     "metadata": {},
     "output_type": "display_data"
    },
    {
     "data": {
      "text/html": [
       "Find logs at: <code>.\\wandb\\run-20250509_162049-cx3q7tve\\logs</code>"
      ],
      "text/plain": [
       "<IPython.core.display.HTML object>"
      ]
     },
     "metadata": {},
     "output_type": "display_data"
    }
   ],
   "source": [
    "import wandb\n",
    "wandb.finish()"
   ]
  }
 ],
 "metadata": {
  "kernelspec": {
   "display_name": ".venv",
   "language": "python",
   "name": "python3"
  },
  "language_info": {
   "codemirror_mode": {
    "name": "ipython",
    "version": 3
   },
   "file_extension": ".py",
   "mimetype": "text/x-python",
   "name": "python",
   "nbconvert_exporter": "python",
   "pygments_lexer": "ipython3",
   "version": "3.11.4"
  }
 },
 "nbformat": 4,
 "nbformat_minor": 5
}
