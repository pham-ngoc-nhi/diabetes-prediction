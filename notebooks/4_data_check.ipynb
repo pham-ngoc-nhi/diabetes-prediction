{
 "cells": [
  {
   "cell_type": "code",
   "execution_count": 22,
   "id": "b68c4ff6",
   "metadata": {},
   "outputs": [
    {
     "name": "stdout",
     "output_type": "stream",
     "text": [
      "Requirement already satisfied: wandb in c:\\users\\x-hp\\onedrive - national economics university\\desktop\\ml ops\\.venv\\lib\\site-packages (0.19.8)\n",
      "Requirement already satisfied: click!=8.0.0,>=7.1 in c:\\users\\x-hp\\onedrive - national economics university\\desktop\\ml ops\\.venv\\lib\\site-packages (from wandb) (8.1.8)\n",
      "Requirement already satisfied: docker-pycreds>=0.4.0 in c:\\users\\x-hp\\onedrive - national economics university\\desktop\\ml ops\\.venv\\lib\\site-packages (from wandb) (0.4.0)\n",
      "Requirement already satisfied: gitpython!=3.1.29,>=1.0.0 in c:\\users\\x-hp\\onedrive - national economics university\\desktop\\ml ops\\.venv\\lib\\site-packages (from wandb) (3.1.44)\n",
      "Requirement already satisfied: platformdirs in c:\\users\\x-hp\\onedrive - national economics university\\desktop\\ml ops\\.venv\\lib\\site-packages (from wandb) (4.3.7)\n",
      "Requirement already satisfied: protobuf!=4.21.0,!=5.28.0,<6,>=3.19.0 in c:\\users\\x-hp\\onedrive - national economics university\\desktop\\ml ops\\.venv\\lib\\site-packages (from wandb) (5.29.4)\n",
      "Requirement already satisfied: psutil>=5.0.0 in c:\\users\\x-hp\\onedrive - national economics university\\desktop\\ml ops\\.venv\\lib\\site-packages (from wandb) (7.0.0)\n",
      "Requirement already satisfied: pydantic<3,>=2.6 in c:\\users\\x-hp\\onedrive - national economics university\\desktop\\ml ops\\.venv\\lib\\site-packages (from wandb) (2.10.6)\n",
      "Requirement already satisfied: pyyaml in c:\\users\\x-hp\\onedrive - national economics university\\desktop\\ml ops\\.venv\\lib\\site-packages (from wandb) (6.0.2)\n",
      "Requirement already satisfied: requests<3,>=2.0.0 in c:\\users\\x-hp\\onedrive - national economics university\\desktop\\ml ops\\.venv\\lib\\site-packages (from wandb) (2.32.3)\n",
      "Requirement already satisfied: sentry-sdk>=2.0.0 in c:\\users\\x-hp\\onedrive - national economics university\\desktop\\ml ops\\.venv\\lib\\site-packages (from wandb) (2.24.0)\n",
      "Requirement already satisfied: setproctitle in c:\\users\\x-hp\\onedrive - national economics university\\desktop\\ml ops\\.venv\\lib\\site-packages (from wandb) (1.3.5)\n",
      "Requirement already satisfied: setuptools in c:\\users\\x-hp\\onedrive - national economics university\\desktop\\ml ops\\.venv\\lib\\site-packages (from wandb) (65.5.0)\n",
      "Requirement already satisfied: typing-extensions<5,>=4.4 in c:\\users\\x-hp\\onedrive - national economics university\\desktop\\ml ops\\.venv\\lib\\site-packages (from wandb) (4.12.2)\n",
      "Requirement already satisfied: colorama in c:\\users\\x-hp\\onedrive - national economics university\\desktop\\ml ops\\.venv\\lib\\site-packages (from click!=8.0.0,>=7.1->wandb) (0.4.6)\n",
      "Requirement already satisfied: six>=1.4.0 in c:\\users\\x-hp\\onedrive - national economics university\\desktop\\ml ops\\.venv\\lib\\site-packages (from docker-pycreds>=0.4.0->wandb) (1.17.0)\n",
      "Requirement already satisfied: gitdb<5,>=4.0.1 in c:\\users\\x-hp\\onedrive - national economics university\\desktop\\ml ops\\.venv\\lib\\site-packages (from gitpython!=3.1.29,>=1.0.0->wandb) (4.0.12)\n",
      "Requirement already satisfied: annotated-types>=0.6.0 in c:\\users\\x-hp\\onedrive - national economics university\\desktop\\ml ops\\.venv\\lib\\site-packages (from pydantic<3,>=2.6->wandb) (0.7.0)\n",
      "Requirement already satisfied: pydantic-core==2.27.2 in c:\\users\\x-hp\\onedrive - national economics university\\desktop\\ml ops\\.venv\\lib\\site-packages (from pydantic<3,>=2.6->wandb) (2.27.2)\n",
      "Requirement already satisfied: charset-normalizer<4,>=2 in c:\\users\\x-hp\\onedrive - national economics university\\desktop\\ml ops\\.venv\\lib\\site-packages (from requests<3,>=2.0.0->wandb) (3.4.1)\n",
      "Requirement already satisfied: idna<4,>=2.5 in c:\\users\\x-hp\\onedrive - national economics university\\desktop\\ml ops\\.venv\\lib\\site-packages (from requests<3,>=2.0.0->wandb) (3.10)\n",
      "Requirement already satisfied: urllib3<3,>=1.21.1 in c:\\users\\x-hp\\onedrive - national economics university\\desktop\\ml ops\\.venv\\lib\\site-packages (from requests<3,>=2.0.0->wandb) (2.3.0)\n",
      "Requirement already satisfied: certifi>=2017.4.17 in c:\\users\\x-hp\\onedrive - national economics university\\desktop\\ml ops\\.venv\\lib\\site-packages (from requests<3,>=2.0.0->wandb) (2025.1.31)\n",
      "Requirement already satisfied: smmap<6,>=3.0.1 in c:\\users\\x-hp\\onedrive - national economics university\\desktop\\ml ops\\.venv\\lib\\site-packages (from gitdb<5,>=4.0.1->gitpython!=3.1.29,>=1.0.0->wandb) (5.0.2)\n"
     ]
    },
    {
     "name": "stderr",
     "output_type": "stream",
     "text": [
      "\n",
      "[notice] A new release of pip is available: 23.1.2 -> 25.1.1\n",
      "[notice] To update, run: python.exe -m pip install --upgrade pip\n"
     ]
    }
   ],
   "source": [
    "!pip install wandb"
   ]
  },
  {
   "cell_type": "code",
   "execution_count": 23,
   "id": "5d0401a0",
   "metadata": {},
   "outputs": [
    {
     "name": "stdout",
     "output_type": "stream",
     "text": [
      "Requirement already satisfied: pytest in c:\\users\\x-hp\\onedrive - national economics university\\desktop\\ml ops\\.venv\\lib\\site-packages (8.3.5)\n",
      "Requirement already satisfied: pytest-sugar in c:\\users\\x-hp\\onedrive - national economics university\\desktop\\ml ops\\.venv\\lib\\site-packages (1.0.0)\n",
      "Requirement already satisfied: colorama in c:\\users\\x-hp\\onedrive - national economics university\\desktop\\ml ops\\.venv\\lib\\site-packages (from pytest) (0.4.6)\n",
      "Requirement already satisfied: iniconfig in c:\\users\\x-hp\\onedrive - national economics university\\desktop\\ml ops\\.venv\\lib\\site-packages (from pytest) (2.1.0)\n",
      "Requirement already satisfied: packaging in c:\\users\\x-hp\\onedrive - national economics university\\desktop\\ml ops\\.venv\\lib\\site-packages (from pytest) (24.2)\n",
      "Requirement already satisfied: pluggy<2,>=1.5 in c:\\users\\x-hp\\onedrive - national economics university\\desktop\\ml ops\\.venv\\lib\\site-packages (from pytest) (1.5.0)\n",
      "Requirement already satisfied: termcolor>=2.1.0 in c:\\users\\x-hp\\onedrive - national economics university\\desktop\\ml ops\\.venv\\lib\\site-packages (from pytest-sugar) (3.1.0)\n"
     ]
    },
    {
     "name": "stderr",
     "output_type": "stream",
     "text": [
      "\n",
      "[notice] A new release of pip is available: 23.1.2 -> 25.1.1\n",
      "[notice] To update, run: python.exe -m pip install --upgrade pip\n"
     ]
    }
   ],
   "source": [
    "!pip install pytest pytest-sugar"
   ]
  },
  {
   "cell_type": "code",
   "execution_count": 24,
   "id": "0bbd1012",
   "metadata": {},
   "outputs": [],
   "source": [
    "import wandb"
   ]
  },
  {
   "cell_type": "code",
   "execution_count": 25,
   "id": "3c4c5e06",
   "metadata": {},
   "outputs": [
    {
     "data": {
      "text/plain": [
       "True"
      ]
     },
     "execution_count": 25,
     "metadata": {},
     "output_type": "execute_result"
    }
   ],
   "source": [
    "# Login to Weights & Biases\n",
    "wandb.login()"
   ]
  },
  {
   "cell_type": "markdown",
   "id": "744f32b2",
   "metadata": {},
   "source": [
    "## 1.2 Pytest"
   ]
  },
  {
   "cell_type": "markdown",
   "id": "718715a5",
   "metadata": {},
   "source": [
    "### 1.2.3 Create and run a test file"
   ]
  },
  {
   "cell_type": "code",
   "execution_count": 26,
   "id": "fe2fcf46",
   "metadata": {},
   "outputs": [
    {
     "name": "stdout",
     "output_type": "stream",
     "text": [
      "Overwriting test_data.py\n"
     ]
    }
   ],
   "source": [
    "%%file test_data.py\n",
    "import wandb\n",
    "import pytest\n",
    "import pandas as pd\n",
    "import os\n",
    "\n",
    "# Khởi tạo W&B run với entity và project tách biệt\n",
    "print(\"Đang khởi tạo W&B...\")\n",
    "try:\n",
    "    run = wandb.init(\n",
    "        entity=\"ngocnhi-p4work-national-economics-university\",  # Tên entity\n",
    "        project=\"diabetes\",  # Tên project\n",
    "        job_type=\"data_checks\"\n",
    "    )\n",
    "    print(\"Khởi tạo W&B thành công\")\n",
    "except Exception as e:\n",
    "    print(f\"Lỗi khi khởi tạo W&B: {e}\")\n",
    "    raise\n",
    "\n",
    "@pytest.fixture(scope=\"session\")\n",
    "def data():\n",
    "    \"\"\"\n",
    "    Fixture để tải tập dữ liệu diabetes từ W&B artifact.\n",
    "    \"\"\"\n",
    "    print(\"Đang tải artifact...\")\n",
    "    try:\n",
    "        artifact = run.use_artifact(\"preprocessed_data.csv:latest\", type=\"clean_data\")\n",
    "        artifact_dir = artifact.download()  # Tải thư mục chứa artifact\n",
    "        local_path = os.path.join(artifact_dir, \"preprocessed_data.csv\")  # Nối đường dẫn đến file thực tế\n",
    "        print(f\"Artifact đã được tải về tại {local_path}\")\n",
    "        df = pd.read_csv(local_path)\n",
    "        print(f\"Dữ liệu đã được tải thành công: {df.shape}\")\n",
    "        print(\"Các cột:\", df.columns.tolist())\n",
    "        return df\n",
    "    except Exception as e:\n",
    "        print(f\"Lỗi khi tải artifact hoặc đọc dữ liệu: {e}\")\n",
    "        raise\n",
    "\n",
    "def test_no_missing_values(data):\n",
    "    assert data.isnull().sum().sum() == 0, \"Dữ liệu còn chứa missing values\"\n",
    "    \n",
    "def test_class_balance(data, threshold=0.9):\n",
    "    class_counts = data['OUTCOME'].value_counts(normalize=True)\n",
    "    max_class_ratio = class_counts.max()\n",
    "    assert max_class_ratio < threshold, f\"Dữ liệu mất cân bằng: {class_counts.to_dict()}\"\n",
    "\n",
    "def test_duplicate_rows(data):\n",
    "    duplicate_count = data.duplicated().sum()\n",
    "    assert duplicate_count == 0, f\"Dữ liệu có {duplicate_count} dòng trùng lặp\"\n",
    "\n",
    "def test_data_length(data):\n",
    "    \"\"\"\n",
    "    Kiểm tra xem tập dữ liệu có đủ số hàng để tiếp tục không.\n",
    "    \"\"\"\n",
    "    print(\"Đang chạy test_data_length...\")\n",
    "    assert len(data) > 500, f\"Tập dữ liệu có {len(data)} hàng, cần > 500\"\n",
    "\n",
    "def test_number_of_columns(data):\n",
    "    \"\"\"\n",
    "    Kiểm tra xem tập dữ liệu có đúng số cột mong đợi không.\n",
    "    \"\"\"\n",
    "    print(\"Đang chạy test_number_of_columns...\")\n",
    "    expected_min_columns = 9\n",
    "    assert data.shape[1] >= expected_min_columns, f\"Tập dữ liệu có {data.shape[1]} cột, cần >= {expected_min_columns} cột\"\n",
    "\n",
    "\n",
    "def test_column_presence_and_type(data):\n",
    "    \"\"\"\n",
    "    Kiểm tra kiểu dữ liệu: OUTCOME là số nguyên, các cột còn lại là số thực.\n",
    "    \"\"\"\n",
    "    print(\"Đang chạy test_column_presence_and_type...\")\n",
    "\n",
    "    # 1. Đảm bảo có cột OUTCOME\n",
    "    assert \"OUTCOME\" in data.columns, \"Thiếu cột OUTCOME\"\n",
    "\n",
    "    # 2. Kiểm tra kiểu dữ liệu của OUTCOME\n",
    "    assert pd.api.types.is_integer_dtype(data[\"OUTCOME\"]), \"Cột OUTCOME không phải kiểu số nguyên\"\n",
    "\n",
    "    # 3. Kiểm tra các cột còn lại là numeric\n",
    "    feature_cols = [col for col in data.columns if col != \"OUTCOME\"]\n",
    "    for col in feature_cols:\n",
    "        assert pd.api.types.is_numeric_dtype(data[col]), f\"Cột {col} không phải dạng số (numeric)\"\n",
    "\n",
    "\n",
    "def test_class_names(data):\n",
    "    \"\"\"\n",
    "    Kiểm tra cột Outcome chỉ chứa các giá trị hợp lệ (0 hoặc 1).\n",
    "    \"\"\"\n",
    "    print(\"Đang chạy test_class_names...\")\n",
    "    known_classes = [0, 1]\n",
    "    assert data[\"OUTCOME\"].isin(known_classes).all(), \\\n",
    "        f\"Cột Outcome chứa giá trị không hợp lệ: {data['OUTCOME'].unique()}\"\n",
    "\n",
    "def test_column_ranges(data):\n",
    "    \"\"\"\n",
    "    Kiểm tra các cột số có giá trị nằm trong khoảng hợp lý (không âm và không cực đoan).\n",
    "    \"\"\"\n",
    "    print(\"Đang chạy test_column_ranges...\")\n",
    "\n",
    "    # Bỏ OUTCOME\n",
    "    feature_cols = [col for col in data.columns if col != \"OUTCOME\" and pd.api.types.is_numeric_dtype(data[col])]\n",
    "\n",
    "    for col in feature_cols:\n",
    "        min_val, max_val = data[col].min(), data[col].max()\n",
    "\n",
    "        # Nếu tất cả giá trị đều âm hoặc rất cao, có thể là lỗi\n",
    "        assert min_val >= 0, f\"Cột {col} chứa giá trị âm (min={min_val})\"\n",
    "        assert max_val < 1e6, f\"Cột {col} có giá trị cực lớn (max={max_val})\"\n"
   ]
  },
  {
   "cell_type": "code",
   "execution_count": 27,
   "id": "a2e3fffe",
   "metadata": {},
   "outputs": [
    {
     "name": "stdout",
     "output_type": "stream",
     "text": [
      "\u001b[1m============================= test session starts =============================\u001b[0m\n",
      "platform win32 -- Python 3.11.4, pytest-8.3.5, pluggy-1.5.0 -- C:\\Users\\x-hp\\OneDrive - National Economics University\\Desktop\\ML Ops\\.venv\\Scripts\\python.exe\n",
      "cachedir: .pytest_cache\n",
      "rootdir: c:\\Users\\x-hp\\OneDrive - National Economics University\\Desktop\\ML Ops\\FINAL\\diabetes_project_MLOPS\\diabetes_project_MLOPS\n",
      "plugins: sugar-1.0.0, typeguard-4.4.2\n",
      "\u001b[1mcollecting ... \u001b[0mcollected 8 items\n",
      "\n",
      "test_data.py::test_no_missing_values \u001b[32mPASSED\u001b[0m\u001b[32m                              [ 12%]\u001b[0m\n",
      "test_data.py::test_class_balance \u001b[32mPASSED\u001b[0m\u001b[32m                                  [ 25%]\u001b[0m\n",
      "test_data.py::test_duplicate_rows \u001b[32mPASSED\u001b[0m\u001b[32m                                 [ 37%]\u001b[0m\n",
      "test_data.py::test_data_length \u001b[32mPASSED\u001b[0m\u001b[32m                                    [ 50%]\u001b[0m\n",
      "test_data.py::test_number_of_columns \u001b[32mPASSED\u001b[0m\u001b[32m                              [ 62%]\u001b[0m\n",
      "test_data.py::test_column_presence_and_type \u001b[32mPASSED\u001b[0m\u001b[32m                       [ 75%]\u001b[0m\n",
      "test_data.py::test_class_names \u001b[32mPASSED\u001b[0m\u001b[32m                                    [ 87%]\u001b[0m\n",
      "test_data.py::test_column_ranges \u001b[32mPASSED\u001b[0m\u001b[32m                                  [100%]\u001b[0m\n",
      "\n",
      "\u001b[32m============================== \u001b[32m\u001b[1m8 passed\u001b[0m\u001b[32m in 9.62s\u001b[0m\u001b[32m ==============================\u001b[0m\n"
     ]
    }
   ],
   "source": [
    "!pytest test_data.py -vvv"
   ]
  },
  {
   "cell_type": "code",
   "execution_count": 28,
   "id": "ef910291",
   "metadata": {},
   "outputs": [],
   "source": [
    "import wandb\n",
    "wandb.finish()"
   ]
  }
 ],
 "metadata": {
  "kernelspec": {
   "display_name": ".venv",
   "language": "python",
   "name": "python3"
  },
  "language_info": {
   "codemirror_mode": {
    "name": "ipython",
    "version": 3
   },
   "file_extension": ".py",
   "mimetype": "text/x-python",
   "name": "python",
   "nbconvert_exporter": "python",
   "pygments_lexer": "ipython3",
   "version": "3.11.4"
  }
 },
 "nbformat": 4,
 "nbformat_minor": 5
}
