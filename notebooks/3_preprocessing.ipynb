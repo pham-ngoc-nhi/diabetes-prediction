{
 "cells": [
  {
   "cell_type": "markdown",
   "id": "90ebe9c4",
   "metadata": {},
   "source": [
    "# Step 3: Data Preprocessing\n",
    "This notebook handles the preprocessing stage of the diabetes prediction pipeline.\n",
    "It includes handling missing values, feature engineering, encoding, feature selection,\n",
    "and artifact logging to Weights & Biases."
   ]
  },
  {
   "cell_type": "code",
   "execution_count": 1,
   "id": "3fc68660",
   "metadata": {},
   "outputs": [
    {
     "name": "stderr",
     "output_type": "stream",
     "text": [
      "\n",
      "[notice] A new release of pip is available: 23.1.2 -> 25.1.1\n",
      "[notice] To update, run: python.exe -m pip install --upgrade pip\n"
     ]
    }
   ],
   "source": [
    "!pip install -q wandb"
   ]
  },
  {
   "cell_type": "code",
   "execution_count": 2,
   "id": "20c285e2",
   "metadata": {},
   "outputs": [],
   "source": [
    "import os\n",
    "import wandb\n",
    "import numpy as np\n",
    "import pandas as pd\n",
    "from sklearn.preprocessing import LabelEncoder\n",
    "from sklearn.feature_selection import mutual_info_classif\n",
    "import seaborn as sns\n",
    "import matplotlib.pyplot as plt\n",
    "import warnings\n",
    "warnings.filterwarnings('ignore')"
   ]
  },
  {
   "cell_type": "markdown",
   "id": "4d863cbf",
   "metadata": {},
   "source": [
    "## 1. Load data"
   ]
  },
  {
   "cell_type": "code",
   "execution_count": 3,
   "id": "bca6c69d",
   "metadata": {},
   "outputs": [],
   "source": [
    "def load_raw_data_from_wandb(project, artifact_path,entity='ngocnhi-p4work-national-economics-university'):\n",
    "    wandb.login()\n",
    "    run = wandb.init(project=project,entity=entity, job_type='process_data')\n",
    "    artifact = run.use_artifact(artifact_path)\n",
    "    artifact_dir = artifact.download()\n",
    "    df = pd.read_csv(os.path.join(artifact_dir, 'raw_data.csv'))\n",
    "    return df, run"
   ]
  },
  {
   "cell_type": "markdown",
   "id": "b2cb190e",
   "metadata": {},
   "source": [
    "## 2. Feature engineering pipeline"
   ]
  },
  {
   "cell_type": "markdown",
   "id": "8c3b346f",
   "metadata": {},
   "source": [
    "### 2.1 Handle columns with unreasonable zero values"
   ]
  },
  {
   "cell_type": "code",
   "execution_count": 4,
   "id": "e8289887",
   "metadata": {},
   "outputs": [],
   "source": [
    "# Get columns with 0\n",
    "def get_zero_columns(df):\n",
    "    return [col for col in df.columns if df[col].min() == 0 and col not in ['Pregnancies', 'Outcome']]\n",
    "\n",
    "# Analyze the relationship between columns with missing values and the Outcome column\n",
    "def analyze_missing_impact(df, target, na_columns, threshold=0.1):\n",
    "    \"\"\"\n",
    "    Analyze the impact of missing values on the target variable.\n",
    "    Returns 2 list:\n",
    "    - columns_to_flag: Columns to keep NA_FLAG\n",
    "    - columns_to_fill: Columns that only need to be filled with median\n",
    "    \"\"\"\n",
    "    columns_to_flag = []\n",
    "    columns_to_fill = []\n",
    "    temp_df = df.copy()\n",
    "    for col in na_columns:\n",
    "        temp_df[col + '_NA_FLAG'] = temp_df[col].isnull().astype(int)\n",
    "        summary = temp_df.groupby(col + '_NA_FLAG')[target].mean()\n",
    "        if len(summary) == 2:  # Ensure both groups 0 and 1 are present\n",
    "            diff = abs(summary[0] - summary[1])\n",
    "            if diff >= threshold:\n",
    "                columns_to_flag.append(col)\n",
    "            else:\n",
    "                columns_to_fill.append(col)\n",
    "        else:\n",
    "            columns_to_fill.append(col)  # If there is only one group, it will still fill.\n",
    "    return columns_to_flag, columns_to_fill\n",
    "\n",
    "# Handling columns with missing values\n",
    "def process_missing_values(df, columns_to_flag, columns_to_fill):\n",
    "    \"\"\"\n",
    "    Handling missing values:\n",
    "    - For columns_to_flag: create an additional column _NA_FLAG\n",
    "    - For columns_to_fill: fill with the median value\n",
    "    \"\"\"\n",
    "    for col in columns_to_flag:\n",
    "        df[col + '_NA_FLAG'] = df[col].isnull().astype(int)\n",
    "        df[col].fillna(df[col].median(), inplace=True) # keep fill median\n",
    "    for col in columns_to_fill:\n",
    "        df[col].fillna(df[col].median(), inplace=True)\n",
    "    return df"
   ]
  },
  {
   "cell_type": "markdown",
   "id": "5227c488",
   "metadata": {},
   "source": [
    "### 2.2 Create new features "
   ]
  },
  {
   "cell_type": "code",
   "execution_count": 5,
   "id": "3e765cfa",
   "metadata": {},
   "outputs": [],
   "source": [
    "def create_features(df):\n",
    "    # 1, Creating a new age variable by dividing the age variable into categories.\n",
    "    df.loc[(df['Age'] >= 21) & (df['Age'] < 50), 'NEW_AGE_CAT'] = 'mature'\n",
    "    df.loc[(df['Age'] >= 50), 'NEW_AGE_CAT'] = 'senior'\n",
    "    # 2, BMI below 18.5 is underweight, 18.5 to 24.9 is normal, 24.9 to 29.9 is Overweight, and over 30 is obese\n",
    "    df['NEW_BMI'] = pd.cut(df['BMI'], bins=[0, 18.5, 24.9, 29.9, 100], labels=['Underweight', 'Healthy', 'Overweight', 'Obese'])\n",
    "    # 3,Converting glucose value to categorical variable\n",
    "    df['NEW_GLUCOSE'] = pd.cut(df['Glucose'], bins=[0, 140, 200, 300], labels=['Normal', 'Prediabetes', 'Diabetes'])\n",
    "    # 4, Creating a categorical variable by considering age and body mass index together, 3 breakdowns were caught\n",
    "    df['NEW_INSULIN_SCORE'] = df['Insulin'].apply(lambda x: 'Normal' if 16 <= x <= 166 else 'Abnormal')\n",
    "    # 5, Creating a categorical variable by considering age and glucose values together\n",
    "    df['NEW_GLUCOSE*INSULIN'] = df['Glucose'] * df['Insulin']\n",
    "    # 6, Deriving Categorical Variable with Insulin Value\n",
    "    df['NEW_GLUCOSE*PREGNANCIES'] = df['Glucose'] * df['Pregnancies']\n",
    "    return df"
   ]
  },
  {
   "cell_type": "markdown",
   "id": "8311b6f3",
   "metadata": {},
   "source": [
    "### 2.3 Encoding"
   ]
  },
  {
   "cell_type": "code",
   "execution_count": 6,
   "id": "a929cb73",
   "metadata": {},
   "outputs": [],
   "source": [
    "def encode_features(df):\n",
    "    # 1, The process of separating variables according to their types.\n",
    "    def grab_col_names(df, cat_th=10, car_th=20):\n",
    "        # cat_cols, cat_but_car\n",
    "        cat_cols = [col for col in df.columns if df[col].dtypes == \"O\"]\n",
    "        num_but_cat = [col for col in df.columns if df[col].nunique() < cat_th and df[col].dtypes != \"O\"]\n",
    "        cat_but_car = [col for col in df.columns if df[col].nunique() > car_th and df[col].dtypes == \"O\"]\n",
    "        cat_cols = cat_cols + num_but_cat\n",
    "        cat_cols = [col for col in cat_cols if col not in cat_but_car]\n",
    "        # num_cols\n",
    "        num_cols = [col for col in df.columns if df[col].dtypes != \"O\"]\n",
    "        num_cols = [col for col in num_cols if col not in num_but_cat]\n",
    "        return cat_cols, num_cols, cat_but_car\n",
    "    cat_cols, num_cols, cat_but_car = grab_col_names(df)\n",
    "    #2, Label encoding for binary categorical variables\n",
    "    binary_cols = [col for col in df.columns if df[col].dtypes == \"O\" and df[col].nunique() == 2]\n",
    "    for col in binary_cols:\n",
    "        df[col] = LabelEncoder().fit_transform(df[col])\n",
    "    #3, One-hot encoding for categorical variables with more than 2 categories\n",
    "    cat_cols = [col for col in cat_cols if col not in binary_cols and col not in [\"Outcome\"]]\n",
    "    df = pd.get_dummies(df, columns=cat_cols, drop_first=True)\n",
    "    return df"
   ]
  },
  {
   "cell_type": "markdown",
   "id": "b7d48c5a",
   "metadata": {},
   "source": [
    "### 2.4 Feature Selection"
   ]
  },
  {
   "cell_type": "code",
   "execution_count": 7,
   "id": "948e539e",
   "metadata": {},
   "outputs": [],
   "source": [
    "def select_features_mi(df, target_col='Outcome', k=8):\n",
    "    X = df.drop(target_col, axis=1)\n",
    "    y = df[target_col]\n",
    "    mi_scores = mutual_info_classif(X, y, random_state=42)\n",
    "    mi_df = pd.DataFrame({'Feature': X.columns, 'MI': mi_scores}).sort_values(by='MI', ascending=False)\n",
    "    top_features = mi_df['Feature'].head(k).tolist()\n",
    "    return df[top_features + [target_col]]"
   ]
  },
  {
   "cell_type": "markdown",
   "id": "ec29d51e",
   "metadata": {},
   "source": [
    "### 2.5 Convert the columns to uppercase"
   ]
  },
  {
   "cell_type": "code",
   "execution_count": 8,
   "id": "60ae480b",
   "metadata": {},
   "outputs": [],
   "source": [
    "def uppercase_column_names(df):\n",
    "    \"\"\"\n",
    "    Convert all column names of the DataFrame to uppercase.\n",
    "    \"\"\"\n",
    "    df.columns = [col.upper() for col in df.columns]\n",
    "    return df"
   ]
  },
  {
   "cell_type": "markdown",
   "id": "401bf91f",
   "metadata": {},
   "source": [
    "### 2.5 Log artifact to WandB"
   ]
  },
  {
   "cell_type": "code",
   "execution_count": 9,
   "id": "1d6a1fc6",
   "metadata": {},
   "outputs": [],
   "source": [
    "def save_and_log_artifact(df, filename, run, artifact_name, artifact_type, description):\n",
    "    df.to_csv(filename, index=False)\n",
    "    artifact = wandb.Artifact(name=artifact_name, type=artifact_type, description=description)\n",
    "    artifact.add_file(filename)\n",
    "    run.log_artifact(artifact)\n",
    "    run.finish()\n",
    "    print(f\"Saved and logged {filename} to W&B\")"
   ]
  },
  {
   "cell_type": "code",
   "execution_count": 10,
   "id": "40a69961",
   "metadata": {},
   "outputs": [
    {
     "name": "stderr",
     "output_type": "stream",
     "text": [
      "\u001b[34m\u001b[1mwandb\u001b[0m: Using wandb-core as the SDK backend.  Please refer to https://wandb.me/wandb-core for more information.\n",
      "\u001b[34m\u001b[1mwandb\u001b[0m: Currently logged in as: \u001b[33mmlcolongmay\u001b[0m (\u001b[33mmlcolongmay-neu\u001b[0m) to \u001b[32mhttps://api.wandb.ai\u001b[0m. Use \u001b[1m`wandb login --relogin`\u001b[0m to force relogin\n"
     ]
    },
    {
     "data": {
      "text/html": [
       "Tracking run with wandb version 0.19.8"
      ],
      "text/plain": [
       "<IPython.core.display.HTML object>"
      ]
     },
     "metadata": {},
     "output_type": "display_data"
    },
    {
     "data": {
      "text/html": [
       "Run data is saved locally in <code>c:\\Users\\x-hp\\OneDrive - National Economics University\\Desktop\\ML Ops\\FINAL\\diabetes-prediction-main\\diabetes-prediction-main\\notebooks\\wandb\\run-20250507_154405-hqi7d3om</code>"
      ],
      "text/plain": [
       "<IPython.core.display.HTML object>"
      ]
     },
     "metadata": {},
     "output_type": "display_data"
    },
    {
     "data": {
      "text/html": [
       "Syncing run <strong><a href='https://wandb.ai/ngocnhi-p4work-national-economics-university/diabetes/runs/hqi7d3om' target=\"_blank\">neat-lake-182</a></strong> to <a href='https://wandb.ai/ngocnhi-p4work-national-economics-university/diabetes' target=\"_blank\">Weights & Biases</a> (<a href='https://wandb.me/developer-guide' target=\"_blank\">docs</a>)<br>"
      ],
      "text/plain": [
       "<IPython.core.display.HTML object>"
      ]
     },
     "metadata": {},
     "output_type": "display_data"
    },
    {
     "data": {
      "text/html": [
       " View project at <a href='https://wandb.ai/ngocnhi-p4work-national-economics-university/diabetes' target=\"_blank\">https://wandb.ai/ngocnhi-p4work-national-economics-university/diabetes</a>"
      ],
      "text/plain": [
       "<IPython.core.display.HTML object>"
      ]
     },
     "metadata": {},
     "output_type": "display_data"
    },
    {
     "data": {
      "text/html": [
       " View run at <a href='https://wandb.ai/ngocnhi-p4work-national-economics-university/diabetes/runs/hqi7d3om' target=\"_blank\">https://wandb.ai/ngocnhi-p4work-national-economics-university/diabetes/runs/hqi7d3om</a>"
      ],
      "text/plain": [
       "<IPython.core.display.HTML object>"
      ]
     },
     "metadata": {},
     "output_type": "display_data"
    },
    {
     "name": "stderr",
     "output_type": "stream",
     "text": [
      "\u001b[34m\u001b[1mwandb\u001b[0m:   1 of 1 files downloaded.  \n"
     ]
    },
    {
     "data": {
      "text/html": [],
      "text/plain": [
       "<IPython.core.display.HTML object>"
      ]
     },
     "metadata": {},
     "output_type": "display_data"
    },
    {
     "data": {
      "text/html": [
       " View run <strong style=\"color:#cdcd00\">neat-lake-182</strong> at: <a href='https://wandb.ai/ngocnhi-p4work-national-economics-university/diabetes/runs/hqi7d3om' target=\"_blank\">https://wandb.ai/ngocnhi-p4work-national-economics-university/diabetes/runs/hqi7d3om</a><br> View project at: <a href='https://wandb.ai/ngocnhi-p4work-national-economics-university/diabetes' target=\"_blank\">https://wandb.ai/ngocnhi-p4work-national-economics-university/diabetes</a><br>Synced 5 W&B file(s), 0 media file(s), 0 artifact file(s) and 0 other file(s)"
      ],
      "text/plain": [
       "<IPython.core.display.HTML object>"
      ]
     },
     "metadata": {},
     "output_type": "display_data"
    },
    {
     "data": {
      "text/html": [
       "Find logs at: <code>.\\wandb\\run-20250507_154405-hqi7d3om\\logs</code>"
      ],
      "text/plain": [
       "<IPython.core.display.HTML object>"
      ]
     },
     "metadata": {},
     "output_type": "display_data"
    },
    {
     "name": "stdout",
     "output_type": "stream",
     "text": [
      "Saved and logged preprocessed_data.csv to W&B\n"
     ]
    }
   ],
   "source": [
    "# === RUN PIPELINE ===\n",
    "project = 'diabetes'\n",
    "artifact_path = 'ngocnhi-p4work-national-economics-university/diabetes/raw_data.csv:latest'\n",
    "df, run = load_raw_data_from_wandb(project, artifact_path)\n",
    "\n",
    "# Mark 0s as NaN\n",
    "zero_cols = get_zero_columns(df)\n",
    "df[zero_cols] = df[zero_cols].replace(0, np.nan)\n",
    "\n",
    "# Handle missing\n",
    "to_flag, to_fill = analyze_missing_impact(df, 'Outcome', zero_cols)\n",
    "df = process_missing_values(df, to_flag, to_fill)\n",
    "\n",
    "# Feature engineering\n",
    "df = create_features(df)\n",
    "\n",
    "# Encoding\n",
    "df = encode_features(df)\n",
    "\n",
    "# Feature selection\n",
    "df = select_features_mi(df, 'Outcome', k=8)\n",
    "df.drop_duplicates(inplace=True)\n",
    "\n",
    "# Uppercase column names\n",
    "df = uppercase_column_names(df)\n",
    "\n",
    "# Save + log\n",
    "save_and_log_artifact(df, 'preprocessed_data.csv', run, 'preprocessed_data.csv', 'clean_data', 'Cleaned and processed diabetes data')\n"
   ]
  },
  {
   "cell_type": "code",
   "execution_count": 11,
   "id": "ddd83453",
   "metadata": {},
   "outputs": [
    {
     "data": {
      "text/html": [
       "<div>\n",
       "<style scoped>\n",
       "    .dataframe tbody tr th:only-of-type {\n",
       "        vertical-align: middle;\n",
       "    }\n",
       "\n",
       "    .dataframe tbody tr th {\n",
       "        vertical-align: top;\n",
       "    }\n",
       "\n",
       "    .dataframe thead th {\n",
       "        text-align: right;\n",
       "    }\n",
       "</style>\n",
       "<table border=\"1\" class=\"dataframe\">\n",
       "  <thead>\n",
       "    <tr style=\"text-align: right;\">\n",
       "      <th></th>\n",
       "      <th>GLUCOSE</th>\n",
       "      <th>NEW_GLUCOSE*INSULIN</th>\n",
       "      <th>BMI</th>\n",
       "      <th>NEW_GLUCOSE_PREDIABETES</th>\n",
       "      <th>NEW_BMI_OBESE</th>\n",
       "      <th>AGE</th>\n",
       "      <th>NEW_GLUCOSE*PREGNANCIES</th>\n",
       "      <th>NEW_BMI_HEALTHY</th>\n",
       "      <th>OUTCOME</th>\n",
       "    </tr>\n",
       "  </thead>\n",
       "  <tbody>\n",
       "    <tr>\n",
       "      <th>0</th>\n",
       "      <td>148.0</td>\n",
       "      <td>18500.0</td>\n",
       "      <td>33.6</td>\n",
       "      <td>True</td>\n",
       "      <td>True</td>\n",
       "      <td>50</td>\n",
       "      <td>888.0</td>\n",
       "      <td>False</td>\n",
       "      <td>1</td>\n",
       "    </tr>\n",
       "    <tr>\n",
       "      <th>1</th>\n",
       "      <td>85.0</td>\n",
       "      <td>10625.0</td>\n",
       "      <td>26.6</td>\n",
       "      <td>False</td>\n",
       "      <td>False</td>\n",
       "      <td>31</td>\n",
       "      <td>85.0</td>\n",
       "      <td>False</td>\n",
       "      <td>0</td>\n",
       "    </tr>\n",
       "    <tr>\n",
       "      <th>2</th>\n",
       "      <td>183.0</td>\n",
       "      <td>22875.0</td>\n",
       "      <td>23.3</td>\n",
       "      <td>True</td>\n",
       "      <td>False</td>\n",
       "      <td>32</td>\n",
       "      <td>1464.0</td>\n",
       "      <td>True</td>\n",
       "      <td>1</td>\n",
       "    </tr>\n",
       "    <tr>\n",
       "      <th>3</th>\n",
       "      <td>89.0</td>\n",
       "      <td>8366.0</td>\n",
       "      <td>28.1</td>\n",
       "      <td>False</td>\n",
       "      <td>False</td>\n",
       "      <td>21</td>\n",
       "      <td>89.0</td>\n",
       "      <td>False</td>\n",
       "      <td>0</td>\n",
       "    </tr>\n",
       "    <tr>\n",
       "      <th>4</th>\n",
       "      <td>137.0</td>\n",
       "      <td>23016.0</td>\n",
       "      <td>43.1</td>\n",
       "      <td>False</td>\n",
       "      <td>True</td>\n",
       "      <td>33</td>\n",
       "      <td>0.0</td>\n",
       "      <td>False</td>\n",
       "      <td>1</td>\n",
       "    </tr>\n",
       "    <tr>\n",
       "      <th>...</th>\n",
       "      <td>...</td>\n",
       "      <td>...</td>\n",
       "      <td>...</td>\n",
       "      <td>...</td>\n",
       "      <td>...</td>\n",
       "      <td>...</td>\n",
       "      <td>...</td>\n",
       "      <td>...</td>\n",
       "      <td>...</td>\n",
       "    </tr>\n",
       "    <tr>\n",
       "      <th>763</th>\n",
       "      <td>101.0</td>\n",
       "      <td>18180.0</td>\n",
       "      <td>32.9</td>\n",
       "      <td>False</td>\n",
       "      <td>True</td>\n",
       "      <td>63</td>\n",
       "      <td>1010.0</td>\n",
       "      <td>False</td>\n",
       "      <td>0</td>\n",
       "    </tr>\n",
       "    <tr>\n",
       "      <th>764</th>\n",
       "      <td>122.0</td>\n",
       "      <td>15250.0</td>\n",
       "      <td>36.8</td>\n",
       "      <td>False</td>\n",
       "      <td>True</td>\n",
       "      <td>27</td>\n",
       "      <td>244.0</td>\n",
       "      <td>False</td>\n",
       "      <td>0</td>\n",
       "    </tr>\n",
       "    <tr>\n",
       "      <th>765</th>\n",
       "      <td>121.0</td>\n",
       "      <td>13552.0</td>\n",
       "      <td>26.2</td>\n",
       "      <td>False</td>\n",
       "      <td>False</td>\n",
       "      <td>30</td>\n",
       "      <td>605.0</td>\n",
       "      <td>False</td>\n",
       "      <td>0</td>\n",
       "    </tr>\n",
       "    <tr>\n",
       "      <th>766</th>\n",
       "      <td>126.0</td>\n",
       "      <td>15750.0</td>\n",
       "      <td>30.1</td>\n",
       "      <td>False</td>\n",
       "      <td>True</td>\n",
       "      <td>47</td>\n",
       "      <td>126.0</td>\n",
       "      <td>False</td>\n",
       "      <td>1</td>\n",
       "    </tr>\n",
       "    <tr>\n",
       "      <th>767</th>\n",
       "      <td>93.0</td>\n",
       "      <td>11625.0</td>\n",
       "      <td>30.4</td>\n",
       "      <td>False</td>\n",
       "      <td>True</td>\n",
       "      <td>23</td>\n",
       "      <td>93.0</td>\n",
       "      <td>False</td>\n",
       "      <td>0</td>\n",
       "    </tr>\n",
       "  </tbody>\n",
       "</table>\n",
       "<p>768 rows × 9 columns</p>\n",
       "</div>"
      ],
      "text/plain": [
       "     GLUCOSE  NEW_GLUCOSE*INSULIN   BMI  NEW_GLUCOSE_PREDIABETES  \\\n",
       "0      148.0              18500.0  33.6                     True   \n",
       "1       85.0              10625.0  26.6                    False   \n",
       "2      183.0              22875.0  23.3                     True   \n",
       "3       89.0               8366.0  28.1                    False   \n",
       "4      137.0              23016.0  43.1                    False   \n",
       "..       ...                  ...   ...                      ...   \n",
       "763    101.0              18180.0  32.9                    False   \n",
       "764    122.0              15250.0  36.8                    False   \n",
       "765    121.0              13552.0  26.2                    False   \n",
       "766    126.0              15750.0  30.1                    False   \n",
       "767     93.0              11625.0  30.4                    False   \n",
       "\n",
       "     NEW_BMI_OBESE  AGE  NEW_GLUCOSE*PREGNANCIES  NEW_BMI_HEALTHY  OUTCOME  \n",
       "0             True   50                    888.0            False        1  \n",
       "1            False   31                     85.0            False        0  \n",
       "2            False   32                   1464.0             True        1  \n",
       "3            False   21                     89.0            False        0  \n",
       "4             True   33                      0.0            False        1  \n",
       "..             ...  ...                      ...              ...      ...  \n",
       "763           True   63                   1010.0            False        0  \n",
       "764           True   27                    244.0            False        0  \n",
       "765          False   30                    605.0            False        0  \n",
       "766           True   47                    126.0            False        1  \n",
       "767           True   23                     93.0            False        0  \n",
       "\n",
       "[768 rows x 9 columns]"
      ]
     },
     "execution_count": 11,
     "metadata": {},
     "output_type": "execute_result"
    }
   ],
   "source": [
    "df"
   ]
  }
 ],
 "metadata": {
  "kernelspec": {
   "display_name": ".venv",
   "language": "python",
   "name": "python3"
  },
  "language_info": {
   "codemirror_mode": {
    "name": "ipython",
    "version": 3
   },
   "file_extension": ".py",
   "mimetype": "text/x-python",
   "name": "python",
   "nbconvert_exporter": "python",
   "pygments_lexer": "ipython3",
   "version": "3.11.4"
  }
 },
 "nbformat": 4,
 "nbformat_minor": 5
}
